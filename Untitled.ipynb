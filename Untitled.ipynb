{
 "cells": [
  {
   "cell_type": "code",
   "execution_count": 1,
   "id": "8c43a7be",
   "metadata": {},
   "outputs": [],
   "source": [
    "import pybamm\n",
    "import matplotlib.pyplot as plt"
   ]
  },
  {
   "cell_type": "code",
   "execution_count": 2,
   "id": "bfe5f168",
   "metadata": {},
   "outputs": [
    {
     "data": {
      "application/vnd.jupyter.widget-view+json": {
       "model_id": "b95dc841c6934e879e92d89a3cbb1da6",
       "version_major": 2,
       "version_minor": 0
      },
      "text/plain": [
       "interactive(children=(FloatSlider(value=0.0, description='t', max=1.0, step=0.01), Output()), _dom_classes=('w…"
      ]
     },
     "metadata": {},
     "output_type": "display_data"
    },
    {
     "data": {
      "text/plain": [
       "<pybamm.plotting.quick_plot.QuickPlot at 0x7fd295adf700>"
      ]
     },
     "execution_count": 2,
     "metadata": {},
     "output_type": "execute_result"
    }
   ],
   "source": [
    "model = pybamm.lithium_ion.DFN()\n",
    "sim = pybamm.Simulation(model)\n",
    "sim.solve([0, 3600])\n",
    "sim.plot()"
   ]
  },
  {
   "cell_type": "code",
   "execution_count": 3,
   "id": "9696da28",
   "metadata": {},
   "outputs": [
    {
     "name": "stderr",
     "output_type": "stream",
     "text": [
      "The linesearch algorithm failed with too small a step.\n",
      "The linesearch algorithm failed with too small a step.\n"
     ]
    },
    {
     "data": {
      "text/plain": [
       "<pybamm.solvers.solution.Solution at 0x7fd292465970>"
      ]
     },
     "execution_count": 3,
     "metadata": {},
     "output_type": "execute_result"
    }
   ],
   "source": [
    "pybamm.settings.heaviside_smoothing = 10\n",
    "model = pybamm.lithium_sulfur.MarinescuEtAl2016()\n",
    "experiment = pybamm.Experiment(\n",
    "    [\n",
    "        (\n",
    "            \"Discharge at 1.1 A for 3 hours or until 2.3 V\",\n",
    "            \"Rest for 1 hour\",\n",
    "            \"Charge at 1.1 A for 3 hours or until 2.4 V\",\n",
    "            \"Rest for 1 hour\",\n",
    "        ),\n",
    "    ]\n",
    "    * 3,\n",
    ") \n",
    "sim = pybamm.Simulation(\n",
    "    model,\n",
    "    experiment=experiment,\n",
    "    solver=pybamm.CasadiSolver(\n",
    "        atol=1e-6,\n",
    "        rtol=1e-6,\n",
    "    ),\n",
    ")\n",
    "\n",
    "sim.solve()"
   ]
  },
  {
   "cell_type": "code",
   "execution_count": 4,
   "id": "52648e44",
   "metadata": {},
   "outputs": [
    {
     "name": "stderr",
     "output_type": "stream",
     "text": [
      "2021-04-28 14:59:41,465 - [INFO] parameter_values.process_model(410): Start setting parameters for Marinescu et al. (2016) model\n",
      "2021-04-28 14:59:41,481 - [INFO] parameter_values.process_model(501): Finish setting parameters for Marinescu et al. (2016) model\n",
      "2021-04-28 14:59:41,482 - [INFO] discretisation.process_model(137): Start discretising Marinescu et al. (2016) model\n",
      "2021-04-28 14:59:41,500 - [INFO] discretisation.process_model(239): Finish discretising Marinescu et al. (2016) model\n",
      "2021-04-28 14:59:41,501 - [INFO] base_solver.solve(554): Start solving Marinescu et al. (2016) model with CasADi solver with 'safe' mode\n",
      "2021-04-28 14:59:41,502 - [INFO] base_solver.set_up(140): Start solver set-up\n",
      "2021-04-28 14:59:41,510 - [INFO] base_solver.set_up(426): Finish solver set-up\n",
      "2021-04-28 14:59:42,471 - [INFO] base_solver.solve(802): Finish solving Marinescu et al. (2016) model (the solver successfully reached the end of the integration interval)\n",
      "2021-04-28 14:59:42,472 - [INFO] base_solver.solve(803): Set-up time: 8.609 ms, Solve time: 960.799 ms (of which integration time: 293.058 ms), Total time: 969.409 ms\n"
     ]
    },
    {
     "data": {
      "application/vnd.jupyter.widget-view+json": {
       "model_id": "1f6af407187d4574b295bf5dd6ff5ce4",
       "version_major": 2,
       "version_minor": 0
      },
      "text/plain": [
       "interactive(children=(FloatSlider(value=0.0, description='t', max=6680.0, step=66.8), Output()), _dom_classes=…"
      ]
     },
     "metadata": {},
     "output_type": "display_data"
    },
    {
     "name": "stderr",
     "output_type": "stream",
     "text": [
      "2021-04-28 14:59:43,835 - [INFO] parameter_values.process_model(410): Start setting parameters for Marinescu et al. (2016) model\n",
      "2021-04-28 14:59:43,845 - [INFO] parameter_values.process_model(501): Finish setting parameters for Marinescu et al. (2016) model\n",
      "2021-04-28 14:59:43,846 - [INFO] discretisation.process_model(137): Start discretising Marinescu et al. (2016) model\n",
      "2021-04-28 14:59:43,860 - [INFO] discretisation.process_model(239): Finish discretising Marinescu et al. (2016) model\n",
      "2021-04-28 14:59:43,861 - [INFO] simulation.solve(719): Start running experiment\n",
      "2021-04-28 14:59:43,861 - [NOTICE] simulation.solve(737): Cycle 1/3 (7.189 us elapsed) --------------------\n",
      "2021-04-28 14:59:43,861 - [NOTICE] simulation.solve(752): Cycle 1/3, step 1/4: Discharge at 1.1 A for 3 hours or until 2.3 V\n",
      "2021-04-28 14:59:43,862 - [INFO] base_solver.set_up(140): Start solver set-up\n",
      "2021-04-28 14:59:43,874 - [INFO] base_solver.set_up(426): Finish solver set-up\n",
      "2021-04-28 14:59:43,997 - [NOTICE] simulation.solve(752): Cycle 1/3, step 2/4: Rest for 1 hour\n",
      "2021-04-28 14:59:44,100 - [NOTICE] simulation.solve(752): Cycle 1/3, step 3/4: Charge at 1.1 A for 3 hours or until 2.4 V\n",
      "2021-04-28 14:59:44,318 - [NOTICE] simulation.solve(752): Cycle 1/3, step 4/4: Rest for 1 hour\n",
      "2021-04-28 14:59:44,428 - [NOTICE] simulation.solve(737): Cycle 2/3 (566.417 ms elapsed) --------------------\n",
      "2021-04-28 14:59:44,428 - [NOTICE] simulation.solve(752): Cycle 2/3, step 1/4: Discharge at 1.1 A for 3 hours or until 2.3 V\n",
      "2021-04-28 14:59:44,517 - [NOTICE] simulation.solve(752): Cycle 2/3, step 2/4: Rest for 1 hour\n",
      "2021-04-28 14:59:44,617 - [NOTICE] simulation.solve(752): Cycle 2/3, step 3/4: Charge at 1.1 A for 3 hours or until 2.4 V\n",
      "2021-04-28 14:59:44,818 - [NOTICE] simulation.solve(752): Cycle 2/3, step 4/4: Rest for 1 hour\n",
      "2021-04-28 14:59:44,928 - [NOTICE] simulation.solve(737): Cycle 3/3 (1.067 s elapsed) --------------------\n",
      "2021-04-28 14:59:44,928 - [NOTICE] simulation.solve(752): Cycle 3/3, step 1/4: Discharge at 1.1 A for 3 hours or until 2.3 V\n",
      "2021-04-28 14:59:45,017 - [NOTICE] simulation.solve(752): Cycle 3/3, step 2/4: Rest for 1 hour\n",
      "2021-04-28 14:59:45,124 - [NOTICE] simulation.solve(752): Cycle 3/3, step 3/4: Charge at 1.1 A for 3 hours or until 2.4 V\n",
      "2021-04-28 14:59:45,339 - [NOTICE] simulation.solve(752): Cycle 3/3, step 4/4: Rest for 1 hour\n",
      "2021-04-28 14:59:45,443 - [NOTICE] simulation.solve(809): Finish experiment simulation, took 1.582 s\n"
     ]
    },
    {
     "data": {
      "application/vnd.jupyter.widget-view+json": {
       "model_id": "b6b4fd5b76b64b67b4db5ded66d99b19",
       "version_major": 2,
       "version_minor": 0
      },
      "text/plain": [
       "interactive(children=(FloatSlider(value=0.0, description='t', max=13.952068378643919, step=0.1395206837864392)…"
      ]
     },
     "metadata": {},
     "output_type": "display_data"
    },
    {
     "data": {
      "text/plain": [
       "<pybamm.plotting.quick_plot.QuickPlot at 0x7fd2959cbfd0>"
      ]
     },
     "execution_count": 4,
     "metadata": {},
     "output_type": "execute_result"
    }
   ],
   "source": [
    "import pybamm\n",
    "import numpy as np\n",
    "\n",
    "pybamm.set_logging_level(\"INFO\")\n",
    "model = pybamm.lithium_sulfur.MarinescuEtAl2016()\n",
    "\n",
    "# Update current and ICs to correspond to initial 2.4V as in ref [2]\n",
    "params = model.default_parameter_values\n",
    "params.update(\n",
    "    {\n",
    "        \"Current function [A]\": 1.7,\n",
    "        \"Initial Condition for S8 ion [g]\": 2.6730,\n",
    "        \"Initial Condition for S4 ion [g]\": 0.0128,\n",
    "        \"Initial Condition for S2 ion [g]\": 4.3321e-6,\n",
    "        \"Initial Condition for S ion [g]\": 1.6321e-6,\n",
    "        \"Initial Condition for Precipitated Sulfur [g]\": 2.7e-06,\n",
    "        \"Initial Condition for Terminal Voltage [V]\": 2.4,\n",
    "        \"Shuttle rate coefficient during charge [s-1]\": 0.0002,\n",
    "        \"Shuttle rate coefficient during discharge [s-1]\": 0,\n",
    "    }\n",
    ")\n",
    "\n",
    "# Set up and solve constant current discharge simulation ----------------------\n",
    "sim = pybamm.Simulation(\n",
    "    model,\n",
    "    parameter_values=params,\n",
    "    solver=pybamm.CasadiSolver(\n",
    "        atol=1e-6,\n",
    "        rtol=1e-6,\n",
    "    ),\n",
    ")\n",
    "sim.solve(np.linspace(0, 6680, 668))\n",
    "\n",
    "# Plot results\n",
    "sim.plot(\n",
    "    [\n",
    "        \"S8 [g]\",\n",
    "        \"S4 [g]\",\n",
    "        \"S2 [g]\",\n",
    "        \"S [g]\",\n",
    "        \"Precipitated Sulfur [g]\",\n",
    "        \"High plateau current [A]\",\n",
    "        \"Low plateau current [A]\",\n",
    "        \"High plateau over-potential [V]\",\n",
    "        \"Low plateau over-potential [V]\",\n",
    "        \"High plateau potential [V]\",\n",
    "        \"Low plateau potential [V]\",\n",
    "        \"Terminal voltage [V]\",\n",
    "    ],\n",
    "    time_unit=\"seconds\",\n",
    ")\n",
    "\n",
    "# Set up and solve experiment -------------------------------------------------\n",
    "experiment = pybamm.Experiment(\n",
    "    [\n",
    "        (\n",
    "            \"Discharge at 1.1 A for 3 hours or until 2.3 V\",\n",
    "            \"Rest for 1 hour\",\n",
    "            \"Charge at 1.1 A for 3 hours or until 2.4 V\",\n",
    "            \"Rest for 1 hour\",\n",
    "        ),\n",
    "    ]\n",
    "    * 3,\n",
    ")\n",
    "sim2 = pybamm.Simulation(\n",
    "    model,\n",
    "    experiment=experiment,\n",
    "    parameter_values=params,\n",
    "    solver=pybamm.CasadiSolver(\n",
    "        atol=1e-6,\n",
    "        rtol=1e-6,\n",
    "    ),\n",
    ")\n",
    "sim2.solve()\n",
    "\n",
    "# Plot results\n",
    "sim2.plot()"
   ]
  },
  {
   "cell_type": "code",
   "execution_count": null,
   "id": "a825edcf",
   "metadata": {},
   "outputs": [],
   "source": []
  }
 ],
 "metadata": {
  "kernelspec": {
   "display_name": "Python 3",
   "language": "python",
   "name": "python3"
  },
  "language_info": {
   "codemirror_mode": {
    "name": "ipython",
    "version": 3
   },
   "file_extension": ".py",
   "mimetype": "text/x-python",
   "name": "python",
   "nbconvert_exporter": "python",
   "pygments_lexer": "ipython3",
   "version": "3.8.5"
  }
 },
 "nbformat": 4,
 "nbformat_minor": 5
}

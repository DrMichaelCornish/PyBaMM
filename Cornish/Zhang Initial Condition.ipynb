{
 "cells": [
  {
   "cell_type": "code",
   "execution_count": 127,
   "metadata": {},
   "outputs": [],
   "source": [
    "import pybamm\n",
    "import numpy as np \n",
    "import matplotlib.pyplot as plt\n",
    "import pickle\n",
    "from joblib import Parallel, delayed\n",
    "from jupyterthemes import jtplot\n",
    "jtplot.style(theme=\"monokai\", context=\"notebook\", ticks=True, grid=False)\n",
    "plt.rcParams['figure.figsize'] = [12, 8]\n",
    "plt.rcParams['figure.dpi'] = 100\n",
    "\n",
    "from IPython.display import Audio\n",
    "url = \"https://proxy.notificationsounds.com/wake-up-tones/you-have-new-message-484/download/file-a1_ascendent-64kbps.mp3\"\n",
    "notify=Audio(url = url, autoplay = True)\n",
    "\n",
    "########## pickle commands for dumping and retrieving data #######\n",
    "# filename = 'dogs'\n",
    "# outfile = open(filename,'wb')\n",
    "# pickle.dump(dogs_dict,outfile)\n",
    "# outfile.close()\n",
    "# infile = open(filename,'rb')\n",
    "# data = pickle.load(infile)\n",
    "# infile.close()\n",
    "\n",
    "########### parallel computations command ####################\n",
    "# data = Parallel(n_jobs=-1)(delayed(my_function)(i) for i in my_iterable)"
   ]
  },
  {
   "cell_type": "code",
   "execution_count": 128,
   "metadata": {},
   "outputs": [],
   "source": [
    "model = pybamm.lithium_sulfur.ZhangEtAl2015()\n",
    "params = model.default_parameter_values\n",
    "\n",
    "R = model.param.R.value\n",
    "F = model.param.F.value\n",
    "T = params[model.param.T_ref.name]\n",
    "N = model.param.N.value\n",
    "\n",
    "# model-specific known parameters\n",
    "'''\n",
    "For the stochiometric sij paramters, i indicates species of Sulfur and j reaction number.\n",
    "For example, S6 in reaction 3 has s63.\n",
    "The one exception is for S8(s), which has S instead of an integer. \n",
    "'''\n",
    "sLi1 = params[model.param.sLi1.name]\n",
    "sS2 = params[model.param.sS2.name]\n",
    "s82 = params[model.param.s82.name]\n",
    "s83 = params[model.param.s83.name]\n",
    "s63 = params[model.param.s63.name]\n",
    "s64 = params[model.param.s64.name]\n",
    "s44 = params[model.param.s44.name]\n",
    "s45 = params[model.param.s45.name]\n",
    "s25 = params[model.param.s25.name]\n",
    "s26 = params[model.param.s26.name]\n",
    "s16 = params[model.param.s16.name]\n",
    "\n",
    "E01 = params[model.param.E01.name]\n",
    "E02 = params[model.param.E02.name]\n",
    "E03 = params[model.param.E03.name]\n",
    "E04 = params[model.param.E04.name]\n",
    "E05 = params[model.param.E05.name]\n",
    "E06 = params[model.param.E06.name]\n",
    "\n",
    "n1 = -params[model.param.n1.name]*-1\n",
    "n2 = -params[model.param.n2.name]*-1\n",
    "n3 = -params[model.param.n3.name]*-1\n",
    "n4 = -params[model.param.n4.name]*-1\n",
    "n5 = -params[model.param.n5.name]*-1\n",
    "n6 = -params[model.param.n6.name]*-1\n",
    "\n",
    "i02 = params[model.param.i02.name]\n",
    "i03 = params[model.param.i03.name]\n",
    "i04 = params[model.param.i04.name]\n",
    "i05 = params[model.param.i05.name]\n",
    "i06 = params[model.param.i06.name]\n",
    "\n",
    "A = params[model.param.Area.name]\n",
    "l = params[model.param.l.name]\n",
    "V_Li2S = params[model.param.V_Li2S.name]\n",
    "nu0_Li2S = params[model.param.nu0_Li2S.name]\n",
    "Li0 = params[model.param.Li0.name]\n",
    "k_p = params[model.param.k_p.name]\n",
    "K_sp = params[model.param.K_sp.name]\n",
    "av0 = params[model.param.av0.name]\n",
    "ep0 = params[model.param.ep0.name]\n",
    "sigma0 = params[model.param.sigma0.name]\n",
    "xi = params[model.param.xi.name]\n",
    "b = params[model.param.b.name]\n",
    "eta1 = params[model.param.eta1.name]"
   ]
  },
  {
   "cell_type": "code",
   "execution_count": 129,
   "metadata": {},
   "outputs": [],
   "source": [
    "S8s = 6.7e2\n",
    "S8 = 1e2\n",
    "S6 = 8.2\n",
    "S4 = 5.6e-3\n",
    "S2 = 8e-6\n",
    "S = 1.4e-8\n",
    "Li = 2*(S8 + S6 + S4 + S2 + S)  + Li0\n",
    "\n",
    "# Reduction Potential as given in Equation (14) of [1]\n",
    "E1 = E01 - (R*T/(n1*F))*sLi1*np.log(Li/1000) \n",
    "\n",
    "# Reduction Potential as given in Equation (14) of [1]\n",
    "E2 = E02 - (R*T/(n2*F))*( sS2*np.log(S8s/1000) + s82*np.log(S8/1000) )\n",
    "\n",
    "# Reduction Potential as given in Equation (14) of [1]\n",
    "E3 = E03 - (R*T/(n3*F))*( s83*np.log(S8/1000) + s63*np.log(S6/1000) )\n",
    "\n",
    "# Reduction Potential as given in Equation (14) of [1]\n",
    "E4 = E04 - (R*T/(n4*F))*( s64*np.log(S6/1000) + s44*np.log(S4/1000) )\n",
    "\n",
    "# Reduction Potential as given in Equation (14) of [1]\n",
    "E5 = E05 - (R*T/(n5*F))*( s45*np.log(S4/1000) + s25*np.log(S2/1000) )\n",
    "\n",
    "# Reduction Potential as given in Equation (14) of [1]\n",
    "E6 = E06 - (R*T/(n6*F))*( s26*np.log(S2/1000) + s16*np.log(S/1000) )\n"
   ]
  },
  {
   "cell_type": "code",
   "execution_count": 130,
   "metadata": {},
   "outputs": [
    {
     "data": {
      "text/plain": [
       "-0.4195540599797178"
      ]
     },
     "execution_count": 130,
     "metadata": {},
     "output_type": "execute_result"
    }
   ],
   "source": [
    "I = 3.45\n",
    "Rs = l/(A*(ep0**1.5)*(sigma0-b*(Li-Li0)))\n",
    "V = 1.5\n",
    "V - E2 + E1 + I*Rs"
   ]
  },
  {
   "cell_type": "code",
   "execution_count": 131,
   "metadata": {},
   "outputs": [],
   "source": [
    "def initial(eta2):\n",
    "    I = .36\n",
    "\n",
    "    # Overpotential implied by equation (8) in [1]\n",
    "    eta3 = E2 + eta2 - E3\n",
    "\n",
    "    # Overpotential implied by equation (8) in [1]\n",
    "    eta4 = E2 + eta2 - E4\n",
    "\n",
    "    # Overpotential implied by equation (8) in [1]\n",
    "    eta5 = E2 + eta2 - E5\n",
    "\n",
    "    # Overpotential implied by equation (8) in [1]\n",
    "    eta6 = E2 + eta2 - E6\n",
    "\n",
    "    # Reaction current functions defined in equation (12) in [1]\n",
    "    i2 = 2*i02*np.sinh(n2*F*eta2/(2*R*T))\n",
    "\n",
    "    # Reaction current functions defined in equation (12) in [1]\n",
    "    i3 = 2*i03*np.sinh(n3*F*eta3/(2*R*T))\n",
    "\n",
    "    # Reaction current functions defined in equation (12) in [1]\n",
    "    i4 = 2*i04*np.sinh(n4*F*eta4/(2*R*T))\n",
    "\n",
    "    # Reaction current functions defined in equation (12) in [1]\n",
    "    i5 = 2*i05*np.sinh(n5*F*eta5/(2*R*T))\n",
    "\n",
    "    # Reaction current functions defined in equation (12) in [1]\n",
    "    i6 = 2*i06*np.sinh(n6*F*eta6/(2*R*T))\n",
    "\n",
    "    return av0*(i2 + i3 + i4 + i5 + i6) - (I/(A*l))"
   ]
  },
  {
   "cell_type": "code",
   "execution_count": 132,
   "metadata": {},
   "outputs": [
    {
     "data": {
      "text/plain": [
       "[<matplotlib.lines.Line2D at 0x7fb9b6def5b0>]"
      ]
     },
     "execution_count": 132,
     "metadata": {},
     "output_type": "execute_result"
    },
    {
     "data": {
      "image/png": "[encoded data removed]",
      "text/plain": [
       "<Figure size 1200x800 with 1 Axes>"
      ]
     },
     "metadata": {},
     "output_type": "display_data"
    }
   ],
   "source": [
    "delta = 1\n",
    "eta2 = np.linspace(-.5,.1,100)\n",
    "I_out = initial(eta2/1000)\n",
    "\n",
    "plt.plot(eta2, I_out)"
   ]
  },
  {
   "cell_type": "code",
   "execution_count": 124,
   "metadata": {},
   "outputs": [],
   "source": [
    "from scipy import optimize\n",
    "sol = optimize.root_scalar(initial, bracket=[-.2,.5], method='brentq', rtol=1e-15)"
   ]
  },
  {
   "cell_type": "code",
   "execution_count": 125,
   "metadata": {},
   "outputs": [
    {
     "name": "stdout",
     "output_type": "stream",
     "text": [
      "2.374020313949443\n"
     ]
    }
   ],
   "source": [
    "eta2 = sol.root\n",
    "print(E2+eta2+E1+(-.36)*Rs)"
   ]
  },
  {
   "cell_type": "code",
   "execution_count": 126,
   "metadata": {},
   "outputs": [
    {
     "data": {
      "text/plain": [
       "0.012396349308440097"
      ]
     },
     "execution_count": 126,
     "metadata": {},
     "output_type": "execute_result"
    }
   ],
   "source": [
    "eta2"
   ]
  },
  {
   "cell_type": "code",
   "execution_count": 76,
   "metadata": {},
   "outputs": [],
   "source": [
    "from scipy import optimize\n",
    "sol = optimize.root(initial, .2, tol=1e-6)"
   ]
  },
  {
   "cell_type": "code",
   "execution_count": 67,
   "metadata": {},
   "outputs": [
    {
     "data": {
      "text/plain": [
       "    fjac: array([[-1.]])\n",
       "     fun: array([5.66069502e-09])\n",
       " message: 'The solution converged.'\n",
       "    nfev: 12\n",
       "     qtf: array([-1.21989069e-06])\n",
       "       r: array([-29032958.34244969])\n",
       "  status: 1\n",
       " success: True\n",
       "       x: array([0.01239635])"
      ]
     },
     "execution_count": 67,
     "metadata": {},
     "output_type": "execute_result"
    }
   ],
   "source": [
    "sol"
   ]
  },
  {
   "cell_type": "code",
   "execution_count": null,
   "metadata": {},
   "outputs": [],
   "source": []
  }
 ],
 "metadata": {
  "kernelspec": {
   "display_name": "Python 3",
   "language": "python",
   "name": "python3"
  },
  "language_info": {
   "codemirror_mode": {
    "name": "ipython",
    "version": 3
   },
   "file_extension": ".py",
   "mimetype": "text/x-python",
   "name": "python",
   "nbconvert_exporter": "python",
   "pygments_lexer": "ipython3",
   "version": "3.8.5"
  }
 },
 "nbformat": 4,
 "nbformat_minor": 4
}
